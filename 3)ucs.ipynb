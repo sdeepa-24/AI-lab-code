{
  "nbformat": 4,
  "nbformat_minor": 0,
  "metadata": {
    "colab": {
      "provenance": [],
      "authorship_tag": "ABX9TyNLOKUg3QrykA6qW25JJ35W",
      "include_colab_link": true
    },
    "kernelspec": {
      "name": "python3",
      "display_name": "Python 3"
    },
    "language_info": {
      "name": "python"
    }
  },
  "cells": [
    {
      "cell_type": "markdown",
      "metadata": {
        "id": "view-in-github",
        "colab_type": "text"
      },
      "source": [
        "<a href=\"https://colab.research.google.com/github/sdeepa-24/AI-lab-code/blob/main/3)ucs.ipynb\" target=\"_parent\"><img src=\"https://colab.research.google.com/assets/colab-badge.svg\" alt=\"Open In Colab\"/></a>"
      ]
    },
    {
      "cell_type": "code",
      "execution_count": 1,
      "metadata": {
        "colab": {
          "base_uri": "https://localhost:8080/"
        },
        "id": "ufBTlY5yrl0u",
        "outputId": "34595017-15c8-47a9-fa88-3b131369d3a9"
      },
      "outputs": [
        {
          "output_type": "stream",
          "name": "stdout",
          "text": [
            "Least-cost path from A to F is: ['A', 'B', 'E', 'F']\n",
            "Total cost: 4\n"
          ]
        }
      ],
      "source": [
        "import heapq\n",
        "\n",
        "def uniform_cost_search(graph, start, goal):\n",
        "\n",
        "    queue = [(0, start, [start])]\n",
        "    visited = set()\n",
        "\n",
        "    while queue:\n",
        "        cost, node, path = heapq.heappop(queue)\n",
        "\n",
        "        if node == goal:\n",
        "            return (cost, path)\n",
        "\n",
        "        if node not in visited:\n",
        "            visited.add(node)\n",
        "            for neighbor, weight in graph.get(node, []):\n",
        "                if neighbor not in visited:\n",
        "                    heapq.heappush(queue, (cost + weight, neighbor, path + [neighbor]))\n",
        "\n",
        "    return (float('inf'), [])\n",
        "\n",
        "\n",
        "graph = {\n",
        "    'A': [('B', 1), ('C', 4)],\n",
        "    'B': [('D', 6), ('E', 2)],\n",
        "    'C': [('F', 3)],\n",
        "    'D': [],\n",
        "    'E': [('F', 1)],\n",
        "    'F': []\n",
        "}\n",
        "\n",
        "start_node = 'A'\n",
        "goal_node = 'F'\n",
        "\n",
        "cost, path = uniform_cost_search(graph, start_node, goal_node)\n",
        "\n",
        "print(\"Least-cost path from\", start_node, \"to\", goal_node, \"is:\", path)\n",
        "print(\"Total cost:\", cost)\n"
      ]
    },
    {
      "cell_type": "code",
      "source": [],
      "metadata": {
        "id": "FGJZUr2FrpMN"
      },
      "execution_count": null,
      "outputs": []
    }
  ]
}