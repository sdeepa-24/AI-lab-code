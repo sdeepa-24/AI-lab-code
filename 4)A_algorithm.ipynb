{
  "nbformat": 4,
  "nbformat_minor": 0,
  "metadata": {
    "colab": {
      "provenance": [],
      "authorship_tag": "ABX9TyMA1Fjm51Agm/3jtIfXhYug",
      "include_colab_link": true
    },
    "kernelspec": {
      "name": "python3",
      "display_name": "Python 3"
    },
    "language_info": {
      "name": "python"
    }
  },
  "cells": [
    {
      "cell_type": "markdown",
      "metadata": {
        "id": "view-in-github",
        "colab_type": "text"
      },
      "source": [
        "<a href=\"https://colab.research.google.com/github/sdeepa-24/AI-lab-code/blob/main/4)A_algorithm.ipynb\" target=\"_parent\"><img src=\"https://colab.research.google.com/assets/colab-badge.svg\" alt=\"Open In Colab\"/></a>"
      ]
    },
    {
      "cell_type": "code",
      "execution_count": 1,
      "metadata": {
        "colab": {
          "base_uri": "https://localhost:8080/"
        },
        "id": "UIq-j89Usnq1",
        "outputId": "4a46861a-e65f-4937-e307-924e6f33bca1"
      },
      "outputs": [
        {
          "output_type": "stream",
          "name": "stdout",
          "text": [
            "Shortest path from A to G is: ['A', 'B', 'E', 'G']\n",
            "Total cost: 3\n"
          ]
        }
      ],
      "source": [
        "import heapq\n",
        "\n",
        "def a_star_search(graph, heuristics, start, goal):\n",
        "\n",
        "    queue = [(heuristics[start], 0, start, [start])]\n",
        "    visited = set()\n",
        "\n",
        "    while queue:\n",
        "        f, g, node, path = heapq.heappop(queue)\n",
        "\n",
        "        if node == goal:\n",
        "            return (g, path)\n",
        "\n",
        "        if node not in visited:\n",
        "            visited.add(node)\n",
        "            for neighbor, cost in graph.get(node, []):\n",
        "                if neighbor not in visited:\n",
        "                    g_new = g + cost\n",
        "                    f_new = g_new + heuristics[neighbor]\n",
        "                    heapq.heappush(queue, (f_new, g_new, neighbor, path + [neighbor]))\n",
        "\n",
        "    return (float('inf'), [])\n",
        "\n",
        "graph = {\n",
        "    'A': [('B', 1), ('C', 3)],\n",
        "    'B': [('D', 3), ('E', 1)],\n",
        "    'C': [('F', 6)],\n",
        "    'D': [('G', 2)],\n",
        "    'E': [('G', 1)],\n",
        "    'F': [('G', 2)],\n",
        "    'G': []\n",
        "}\n",
        "\n",
        "heuristics = {\n",
        "    'A': 7,\n",
        "    'B': 6,\n",
        "    'C': 4,\n",
        "    'D': 3,\n",
        "    'E': 2,\n",
        "    'F': 5,\n",
        "    'G': 0\n",
        "}\n",
        "\n",
        "start_node = 'A'\n",
        "goal_node = 'G'\n",
        "\n",
        "cost, path = a_star_search(graph, heuristics, start_node, goal_node)\n",
        "\n",
        "print(\"Shortest path from\", start_node, \"to\", goal_node, \"is:\", path)\n",
        "print(\"Total cost:\", cost)\n"
      ]
    },
    {
      "cell_type": "code",
      "source": [],
      "metadata": {
        "id": "8LSVc5w8stXV"
      },
      "execution_count": null,
      "outputs": []
    }
  ]
}