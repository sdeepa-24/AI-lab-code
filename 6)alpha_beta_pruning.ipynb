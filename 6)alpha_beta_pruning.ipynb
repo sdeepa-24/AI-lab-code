{
  "nbformat": 4,
  "nbformat_minor": 0,
  "metadata": {
    "colab": {
      "provenance": [],
      "authorship_tag": "ABX9TyPa7TEnXlKgLFpKScCCgrGt",
      "include_colab_link": true
    },
    "kernelspec": {
      "name": "python3",
      "display_name": "Python 3"
    },
    "language_info": {
      "name": "python"
    }
  },
  "cells": [
    {
      "cell_type": "markdown",
      "metadata": {
        "id": "view-in-github",
        "colab_type": "text"
      },
      "source": [
        "<a href=\"https://colab.research.google.com/github/sdeepa-24/AI-lab-code/blob/main/6)alpha_beta_pruning.ipynb\" target=\"_parent\"><img src=\"https://colab.research.google.com/assets/colab-badge.svg\" alt=\"Open In Colab\"/></a>"
      ]
    },
    {
      "cell_type": "code",
      "execution_count": 1,
      "metadata": {
        "colab": {
          "base_uri": "https://localhost:8080/"
        },
        "id": "76hdhzRhtrHX",
        "outputId": "092fa377-9bee-4297-e068-39167e5a73b0"
      },
      "outputs": [
        {
          "output_type": "stream",
          "name": "stdout",
          "text": [
            "The optimal value is: 5\n"
          ]
        }
      ],
      "source": [
        "\n",
        "\n",
        "def alpha_beta(depth, node_index, is_maximizing, values, alpha, beta):\n",
        "\n",
        "    if depth == 3:\n",
        "        return values[node_index]\n",
        "\n",
        "    if is_maximizing:\n",
        "        best = float('-inf')\n",
        "        for i in range(2):\n",
        "            val = alpha_beta(depth + 1, node_index * 2 + i, False, values, alpha, beta)\n",
        "            best = max(best, val)\n",
        "            alpha = max(alpha, best)\n",
        "            if beta <= alpha:\n",
        "                break\n",
        "        return best\n",
        "    else:\n",
        "        best = float('inf')\n",
        "        for i in range(2):\n",
        "            val = alpha_beta(depth + 1, node_index * 2 + i, True, values, alpha, beta)\n",
        "            best = min(best, val)\n",
        "            beta = min(beta, best)\n",
        "            if beta <= alpha:\n",
        "                break\n",
        "        return best\n",
        "\n",
        "\n",
        "values = [3, 5, 6, 9, 1, 2, 0, -1]\n",
        "\n",
        "\n",
        "best_value = alpha_beta(0, 0, True, values, float('-inf'), float('inf'))\n",
        "print(\"The optimal value is:\", best_value)\n"
      ]
    },
    {
      "cell_type": "code",
      "source": [],
      "metadata": {
        "id": "t7IT1PGXt6sv"
      },
      "execution_count": null,
      "outputs": []
    }
  ]
}