{
  "nbformat": 4,
  "nbformat_minor": 0,
  "metadata": {
    "colab": {
      "provenance": [],
      "authorship_tag": "ABX9TyPose4UhGVJtBt4xCpSiZPG",
      "include_colab_link": true
    },
    "kernelspec": {
      "name": "python3",
      "display_name": "Python 3"
    },
    "language_info": {
      "name": "python"
    }
  },
  "cells": [
    {
      "cell_type": "markdown",
      "metadata": {
        "id": "view-in-github",
        "colab_type": "text"
      },
      "source": [
        "<a href=\"https://colab.research.google.com/github/sdeepa-24/AI-lab-code/blob/main/7)_Solve_Constraint_Satisfaction_Problems.ipynb\" target=\"_parent\"><img src=\"https://colab.research.google.com/assets/colab-badge.svg\" alt=\"Open In Colab\"/></a>"
      ]
    },
    {
      "cell_type": "code",
      "execution_count": 2,
      "metadata": {
        "colab": {
          "base_uri": "https://localhost:8080/"
        },
        "id": "ApOtNrPSvanj",
        "outputId": "f15b996b-92af-4c3a-ca9a-ee8ff17d1c3d"
      },
      "outputs": [
        {
          "output_type": "stream",
          "name": "stdout",
          "text": [
            "Enter Board Size: 4\n",
            "0 1 0 0\n",
            "0 0 0 1\n",
            "1 0 0 0\n",
            "0 0 1 0\n",
            "\n",
            "\n",
            "0 0 1 0\n",
            "1 0 0 0\n",
            "0 0 0 1\n",
            "0 1 0 0\n",
            "\n",
            "\n"
          ]
        }
      ],
      "source": [
        "def is_safe(a, row, col, n):\n",
        "    for i in range(row):\n",
        "        if a[i][col] == 1:\n",
        "            return False\n",
        "\n",
        "    for i, j in zip(range(row-1, -1, -1), range(col-1, -1, -1)):\n",
        "        if a[i][j] == 1:\n",
        "            return False\n",
        "\n",
        "    for i, j in zip(range(row-1, -1, -1), range(col+1, n)):\n",
        "        if a[i][j] == 1:\n",
        "            return False\n",
        "\n",
        "    return True\n",
        "\n",
        "\n",
        "def nq(a, row, n):\n",
        "    if row == n:\n",
        "        for r in a:\n",
        "            print(\" \".join(\"1\" if cell == 1 else \"0\" for cell in r))\n",
        "        print(\"\\n\")\n",
        "        return True\n",
        "\n",
        "    nqueen = False\n",
        "    for col in range(n):\n",
        "        if is_safe(a, row, col, n):\n",
        "            a[row][col] = 1\n",
        "            nqueen = nq(a, row+1, n) or nqueen\n",
        "            a[row][col] = 0\n",
        "\n",
        "    return nqueen\n",
        "\n",
        "\n",
        "def print_sol(n):\n",
        "    a = [[0 for _ in range(n)] for _ in range(n)]\n",
        "    if not nq(a, 0, n):\n",
        "        print(\"No solution exists.\")\n",
        "\n",
        "\n",
        "\n",
        "n = int(input(\"Enter Board Size: \"))\n",
        "print_sol(n)"
      ]
    },
    {
      "cell_type": "code",
      "source": [],
      "metadata": {
        "id": "rZ19eN22viNl"
      },
      "execution_count": null,
      "outputs": []
    }
  ]
}